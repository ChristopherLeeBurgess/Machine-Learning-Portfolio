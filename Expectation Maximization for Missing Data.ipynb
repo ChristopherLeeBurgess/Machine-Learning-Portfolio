{
 "cells": [
  {
   "cell_type": "markdown",
   "metadata": {},
   "source": [
    "# Introduction"
   ]
  },
  {
   "cell_type": "markdown",
   "metadata": {},
   "source": [
    "There are several methods for imputation of missing data, but Expectation Maximization is one that seems a little more magical. When I first heard about the EM algorithm in my Machine Learning course (a curriculum offered by Columbia Engineering), the mathematics seemed too powerful and intense. Several lessons in, I admit this was nearly that final straw which almost convinced me to quit the course & pursue a simpler one without much math."
   ]
  },
  {
   "cell_type": "markdown",
   "metadata": {},
   "source": [
    "However the EM algorithm makes more sense as one gets used to seeing the mathematics more often. In this blog, I will describe how to use this algorithm to fill in missing data. I assume the reader will have some familiarity with MLE/MAP estimation, as well as KL Divergence and coordinate ascent. "
   ]
  },
  {
   "cell_type": "markdown",
   "metadata": {},
   "source": [
    "I will start with a mathematical preliminary. Let there be a random variable (x,y,z) with a joint probability distribution p(x,y,z). One important identity is the following:"
   ]
  },
  {
   "cell_type": "markdown",
   "metadata": {},
   "source": [
    "$p(x|y) = \\frac{p(z,x|y)}{p(z|x,y)}$"
   ]
  },
  {
   "cell_type": "markdown",
   "metadata": {},
   "source": [
    "proof."
   ]
  },
  {
   "cell_type": "markdown",
   "metadata": {},
   "source": [
    "$\\frac{p(z,x|y)}{p(z|x,y)} = \\frac{p(x,y,z)p(x,y)}{p(x,y,z)p(y)} = \\frac{p(x,y)}{p(y)} = p(x|y)$"
   ]
  },
  {
   "cell_type": "markdown",
   "metadata": {},
   "source": [
    "This holds true for any arbitrary joint-distribution over (x,y,z)."
   ]
  },
  {
   "cell_type": "markdown",
   "metadata": {},
   "source": [
    " "
   ]
  },
  {
   "cell_type": "markdown",
   "metadata": {},
   "source": [
    "Now lets say we have some n-by-m data table with missing values. We will assign $x_i$ (for i = 1,2,...,n) to be the rows of data. "
   ]
  },
  {
   "cell_type": "markdown",
   "metadata": {},
   "source": [
    "Then $x_i = (k_i, uk_i )$, where $k_i$ and $uk_i$ are respectively the set of known and unknown values in row $x_i$. Furthermore, assume that $x_i$ ~ $N(\\mu, \\Sigma)$, a normal distribution with mean $\\mu$ and covariance $\\Sigma$. For the sake of simplicity in our calculations, we will further identify the tuple $(\\mu, \\Sigma)$ with $\\theta$."
   ]
  },
  {
   "cell_type": "markdown",
   "metadata": {},
   "source": [
    "Upon reviewing our identity, we can prove:"
   ]
  },
  {
   "cell_type": "markdown",
   "metadata": {},
   "source": [
    "$ p(k_i|\\theta) = \\frac{p(x_i|\\theta)}{p(uk_i|k_i, \\theta)}$"
   ]
  },
  {
   "cell_type": "code",
   "execution_count": null,
   "metadata": {},
   "outputs": [],
   "source": []
  }
 ],
 "metadata": {
  "kernelspec": {
   "display_name": "Python 3",
   "language": "python",
   "name": "python3"
  },
  "language_info": {
   "codemirror_mode": {
    "name": "ipython",
    "version": 3
   },
   "file_extension": ".py",
   "mimetype": "text/x-python",
   "name": "python",
   "nbconvert_exporter": "python",
   "pygments_lexer": "ipython3",
   "version": "3.8.3"
  },
  "toc": {
   "base_numbering": 1,
   "nav_menu": {},
   "number_sections": true,
   "sideBar": true,
   "skip_h1_title": false,
   "title_cell": "Table of Contents",
   "title_sidebar": "Contents",
   "toc_cell": false,
   "toc_position": {},
   "toc_section_display": true,
   "toc_window_display": true
  },
  "varInspector": {
   "cols": {
    "lenName": 16,
    "lenType": 16,
    "lenVar": 40
   },
   "kernels_config": {
    "python": {
     "delete_cmd_postfix": "",
     "delete_cmd_prefix": "del ",
     "library": "var_list.py",
     "varRefreshCmd": "print(var_dic_list())"
    },
    "r": {
     "delete_cmd_postfix": ") ",
     "delete_cmd_prefix": "rm(",
     "library": "var_list.r",
     "varRefreshCmd": "cat(var_dic_list()) "
    }
   },
   "types_to_exclude": [
    "module",
    "function",
    "builtin_function_or_method",
    "instance",
    "_Feature"
   ],
   "window_display": false
  }
 },
 "nbformat": 4,
 "nbformat_minor": 4
}
